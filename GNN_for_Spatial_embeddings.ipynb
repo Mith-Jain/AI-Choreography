{
  "nbformat": 4,
  "nbformat_minor": 0,
  "metadata": {
    "colab": {
      "provenance": [],
      "include_colab_link": true
    },
    "kernelspec": {
      "name": "python3",
      "display_name": "Python 3"
    },
    "language_info": {
      "name": "python"
    }
  },
  "cells": [
    {
      "cell_type": "markdown",
      "metadata": {
        "id": "view-in-github",
        "colab_type": "text"
      },
      "source": [
        "<a href=\"https://colab.research.google.com/github/Mith-Jain/AI-Choreography/blob/main/GNN_for_Spatial_embeddings.ipynb\" target=\"_parent\"><img src=\"https://colab.research.google.com/assets/colab-badge.svg\" alt=\"Open In Colab\"/></a>"
      ]
    },
    {
      "cell_type": "code",
      "source": [
        "!pip install torch_geometric"
      ],
      "metadata": {
        "id": "9BywiBIu9-gQ"
      },
      "execution_count": null,
      "outputs": []
    },
    {
      "cell_type": "code",
      "source": [
        "!pip install networkx"
      ],
      "metadata": {
        "colab": {
          "base_uri": "https://localhost:8080/"
        },
        "id": "_3ToQq07Ilxx",
        "outputId": "193c2718-9b37-47b5-aaf3-418bfa2e328c"
      },
      "execution_count": null,
      "outputs": [
        {
          "output_type": "stream",
          "name": "stdout",
          "text": [
            "Requirement already satisfied: networkx in /usr/local/lib/python3.10/dist-packages (3.1)\n"
          ]
        }
      ]
    },
    {
      "cell_type": "code",
      "execution_count": null,
      "metadata": {
        "id": "pWL6DVmsgjJM"
      },
      "outputs": [],
      "source": [
        "import torch\n",
        "import torch.nn as nn\n",
        "from torch_geometric.data import Data\n",
        "from torch_geometric.nn import GCNConv\n",
        "from torch.nn import Linear\n",
        "import torch.nn.functional as F\n",
        "import numpy as np\n",
        "import pandas as pd\n",
        "import pickle"
      ]
    },
    {
      "cell_type": "code",
      "source": [
        "from google.colab import drive\n",
        "drive.mount('/content/drive')"
      ],
      "metadata": {
        "colab": {
          "base_uri": "https://localhost:8080/"
        },
        "id": "D0l8LnbF_bot",
        "outputId": "973cf950-47dc-473f-f537-30858b8bbd06"
      },
      "execution_count": null,
      "outputs": [
        {
          "output_type": "stream",
          "name": "stdout",
          "text": [
            "Mounted at /content/drive\n"
          ]
        }
      ]
    },
    {
      "cell_type": "code",
      "source": [
        "motion_data  = pickle.load(open(\"/content/drive/MyDrive/edge_aistpp/motions/gBR_sBM_cAll_d04_mBR0_ch04.pkl\",\"rb\"))\n",
        "motion_data"
      ],
      "metadata": {
        "colab": {
          "base_uri": "https://localhost:8080/"
        },
        "id": "jo5je96s_k-R",
        "outputId": "315af230-01cc-4a7f-8ed2-55e580c2e97c"
      },
      "execution_count": null,
      "outputs": [
        {
          "output_type": "execute_result",
          "data": {
            "text/plain": [
              "{'smpl_loss': 1.9804539680480957,\n",
              " 'smpl_poses': array([[-2.5402021e-01,  1.0790447e+00, -3.2611117e-01, ...,\n",
              "          2.1950207e-03, -3.4160182e-04,  6.5241829e-03],\n",
              "        [-2.5178561e-01,  1.0909940e+00, -3.3540604e-01, ...,\n",
              "          1.8025528e-03, -5.6651892e-04,  5.9106024e-03],\n",
              "        [-2.4517223e-01,  1.1230410e+00, -3.4188884e-01, ...,\n",
              "          1.0666245e-03, -1.0431040e-03,  5.4379208e-03],\n",
              "        ...,\n",
              "        [ 1.6730228e-01, -9.1729444e-01,  5.8604013e-02, ...,\n",
              "         -2.1016370e-03, -4.3079001e-03,  1.2162547e-03],\n",
              "        [ 1.7439316e-01, -9.0081340e-01,  5.4894302e-02, ...,\n",
              "         -2.2951544e-03, -3.9827581e-03,  5.0095358e-04],\n",
              "        [ 1.7330101e-01, -8.8698792e-01,  5.8664370e-02, ...,\n",
              "         -2.7542312e-03, -3.3169615e-03,  6.5153225e-05]], dtype=float32),\n",
              " 'smpl_scaling': array([94.51005], dtype=float32),\n",
              " 'smpl_trans': array([[-28.042538 , 183.04108  , -12.137114 ],\n",
              "        [-28.21238  , 183.0978   , -12.055348 ],\n",
              "        [-28.408918 , 183.07715  , -11.930638 ],\n",
              "        ...,\n",
              "        [ -6.8480587, 169.99023  ,  60.223595 ],\n",
              "        [ -7.2450027, 170.19734  ,  59.626495 ],\n",
              "        [ -7.493953 , 170.39784  ,  59.075817 ]], dtype=float32)}"
            ]
          },
          "metadata": {},
          "execution_count": 5
        }
      ]
    },
    {
      "cell_type": "code",
      "source": [
        "!pip install torch_geometric_temporal"
      ],
      "metadata": {
        "colab": {
          "base_uri": "https://localhost:8080/"
        },
        "id": "7x9g7IDyXAfS",
        "outputId": "2b78d9e6-d3de-4e3d-e646-c0bf0eca35b2"
      },
      "execution_count": null,
      "outputs": [
        {
          "output_type": "stream",
          "name": "stdout",
          "text": [
            "Collecting torch_geometric_temporal\n",
            "  Using cached torch_geometric_temporal-0.54.0-py3-none-any.whl\n",
            "Requirement already satisfied: decorator==4.4.2 in /usr/local/lib/python3.10/dist-packages (from torch_geometric_temporal) (4.4.2)\n",
            "Requirement already satisfied: torch in /usr/local/lib/python3.10/dist-packages (from torch_geometric_temporal) (2.0.1+cu118)\n",
            "Requirement already satisfied: cython in /usr/local/lib/python3.10/dist-packages (from torch_geometric_temporal) (3.0.2)\n",
            "Collecting pandas<=1.3.5 (from torch_geometric_temporal)\n",
            "  Using cached pandas-1.3.5-cp310-cp310-manylinux_2_17_x86_64.manylinux2014_x86_64.whl (11.5 MB)\n",
            "Collecting torch-sparse (from torch_geometric_temporal)\n",
            "  Using cached torch_sparse-0.6.17.tar.gz (209 kB)\n",
            "  Preparing metadata (setup.py) ... \u001b[?25l\u001b[?25hdone\n",
            "Collecting torch-scatter (from torch_geometric_temporal)\n",
            "  Using cached torch_scatter-2.1.1-cp310-cp310-linux_x86_64.whl\n",
            "Requirement already satisfied: torch-geometric in /usr/local/lib/python3.10/dist-packages (from torch_geometric_temporal) (2.3.1)\n",
            "Requirement already satisfied: numpy in /usr/local/lib/python3.10/dist-packages (from torch_geometric_temporal) (1.23.5)\n",
            "Requirement already satisfied: six in /usr/local/lib/python3.10/dist-packages (from torch_geometric_temporal) (1.16.0)\n",
            "Requirement already satisfied: networkx in /usr/local/lib/python3.10/dist-packages (from torch_geometric_temporal) (3.1)\n",
            "Requirement already satisfied: python-dateutil>=2.7.3 in /usr/local/lib/python3.10/dist-packages (from pandas<=1.3.5->torch_geometric_temporal) (2.8.2)\n",
            "Requirement already satisfied: pytz>=2017.3 in /usr/local/lib/python3.10/dist-packages (from pandas<=1.3.5->torch_geometric_temporal) (2023.3.post1)\n",
            "Requirement already satisfied: filelock in /usr/local/lib/python3.10/dist-packages (from torch->torch_geometric_temporal) (3.12.2)\n",
            "Requirement already satisfied: typing-extensions in /usr/local/lib/python3.10/dist-packages (from torch->torch_geometric_temporal) (4.5.0)\n",
            "Requirement already satisfied: sympy in /usr/local/lib/python3.10/dist-packages (from torch->torch_geometric_temporal) (1.12)\n",
            "Requirement already satisfied: jinja2 in /usr/local/lib/python3.10/dist-packages (from torch->torch_geometric_temporal) (3.1.2)\n",
            "Requirement already satisfied: triton==2.0.0 in /usr/local/lib/python3.10/dist-packages (from torch->torch_geometric_temporal) (2.0.0)\n",
            "Requirement already satisfied: cmake in /usr/local/lib/python3.10/dist-packages (from triton==2.0.0->torch->torch_geometric_temporal) (3.27.4.1)\n",
            "Requirement already satisfied: lit in /usr/local/lib/python3.10/dist-packages (from triton==2.0.0->torch->torch_geometric_temporal) (16.0.6)\n",
            "Requirement already satisfied: tqdm in /usr/local/lib/python3.10/dist-packages (from torch-geometric->torch_geometric_temporal) (4.66.1)\n",
            "Requirement already satisfied: scipy in /usr/local/lib/python3.10/dist-packages (from torch-geometric->torch_geometric_temporal) (1.11.2)\n",
            "Requirement already satisfied: requests in /usr/local/lib/python3.10/dist-packages (from torch-geometric->torch_geometric_temporal) (2.31.0)\n",
            "Requirement already satisfied: pyparsing in /usr/local/lib/python3.10/dist-packages (from torch-geometric->torch_geometric_temporal) (3.1.1)\n",
            "Requirement already satisfied: scikit-learn in /usr/local/lib/python3.10/dist-packages (from torch-geometric->torch_geometric_temporal) (1.2.2)\n",
            "Requirement already satisfied: psutil>=5.8.0 in /usr/local/lib/python3.10/dist-packages (from torch-geometric->torch_geometric_temporal) (5.9.5)\n",
            "Requirement already satisfied: MarkupSafe>=2.0 in /usr/local/lib/python3.10/dist-packages (from jinja2->torch->torch_geometric_temporal) (2.1.3)\n",
            "Requirement already satisfied: charset-normalizer<4,>=2 in /usr/local/lib/python3.10/dist-packages (from requests->torch-geometric->torch_geometric_temporal) (3.2.0)\n",
            "Requirement already satisfied: idna<4,>=2.5 in /usr/local/lib/python3.10/dist-packages (from requests->torch-geometric->torch_geometric_temporal) (3.4)\n",
            "Requirement already satisfied: urllib3<3,>=1.21.1 in /usr/local/lib/python3.10/dist-packages (from requests->torch-geometric->torch_geometric_temporal) (2.0.4)\n",
            "Requirement already satisfied: certifi>=2017.4.17 in /usr/local/lib/python3.10/dist-packages (from requests->torch-geometric->torch_geometric_temporal) (2023.7.22)\n",
            "Requirement already satisfied: joblib>=1.1.1 in /usr/local/lib/python3.10/dist-packages (from scikit-learn->torch-geometric->torch_geometric_temporal) (1.3.2)\n",
            "Requirement already satisfied: threadpoolctl>=2.0.0 in /usr/local/lib/python3.10/dist-packages (from scikit-learn->torch-geometric->torch_geometric_temporal) (3.2.0)\n",
            "Requirement already satisfied: mpmath>=0.19 in /usr/local/lib/python3.10/dist-packages (from sympy->torch->torch_geometric_temporal) (1.3.0)\n",
            "Building wheels for collected packages: torch-sparse\n",
            "  Building wheel for torch-sparse (setup.py) ... \u001b[?25l\u001b[?25hcanceled\n",
            "\u001b[31mERROR: Operation cancelled by user\u001b[0m\u001b[31m\n",
            "\u001b[0mTraceback (most recent call last):\n",
            "  File \"/usr/local/bin/pip3\", line 8, in <module>\n",
            "    sys.exit(main())\n",
            "  File \"/usr/local/lib/python3.10/dist-packages/pip/_internal/cli/main.py\", line 79, in main\n",
            "    return command.main(cmd_args)\n",
            "  File \"/usr/local/lib/python3.10/dist-packages/pip/_internal/cli/base_command.py\", line 100, in main\n",
            "    with self.main_context():\n",
            "  File \"/usr/lib/python3.10/contextlib.py\", line 142, in __exit__\n",
            "    next(self.gen)\n",
            "  File \"/usr/local/lib/python3.10/dist-packages/pip/_internal/cli/command_context.py\", line 19, in main_context\n",
            "    with self._main_context:\n",
            "  File \"/usr/lib/python3.10/contextlib.py\", line 576, in __exit__\n",
            "    raise exc_details[1]\n",
            "  File \"/usr/lib/python3.10/contextlib.py\", line 153, in __exit__\n",
            "    self.gen.throw(typ, value, traceback)\n",
            "  File \"/usr/local/lib/python3.10/dist-packages/pip/_internal/utils/temp_dir.py\", line 70, in tempdir_registry\n",
            "    yield _tempdir_registry\n",
            "  File \"/usr/lib/python3.10/contextlib.py\", line 561, in __exit__\n",
            "    if cb(*exc_details):\n",
            "  File \"/usr/local/lib/python3.10/dist-packages/pip/_vendor/requests/sessions.py\", line 455, in __exit__\n",
            "    self.close()\n",
            "  File \"/usr/local/lib/python3.10/dist-packages/pip/_vendor/requests/sessions.py\", line 797, in close\n",
            "    v.close()\n",
            "  File \"/usr/local/lib/python3.10/dist-packages/pip/_vendor/cachecontrol/adapter.py\", line 137, in close\n",
            "    super(CacheControlAdapter, self).close()\n",
            "  File \"/usr/local/lib/python3.10/dist-packages/pip/_vendor/requests/adapters.py\", line 368, in close\n",
            "    self.poolmanager.clear()\n",
            "  File \"/usr/local/lib/python3.10/dist-packages/pip/_vendor/urllib3/poolmanager.py\", line 223, in clear\n",
            "    self.pools.clear()\n",
            "  File \"/usr/local/lib/python3.10/dist-packages/pip/_vendor/urllib3/_collections.py\", line 100, in clear\n",
            "    self.dispose_func(value)\n",
            "  File \"/usr/local/lib/python3.10/dist-packages/pip/_vendor/urllib3/poolmanager.py\", line 174, in <lambda>\n",
            "    self.pools = RecentlyUsedContainer(num_pools, dispose_func=lambda p: p.close())\n",
            "  File \"/usr/local/lib/python3.10/dist-packages/pip/_vendor/urllib3/connectionpool.py\", line 495, in close\n",
            "    if conn:\n",
            "KeyboardInterrupt\n",
            "^C\n"
          ]
        }
      ]
    },
    {
      "cell_type": "code",
      "source": [
        "import math\n",
        "import torch\n",
        "import torch.nn as nn\n",
        "import torch.nn.functional as F\n",
        "from torch_geometric.nn import ChebConv\n",
        "\n",
        "\n",
        "class TemporalConv(nn.Module):\n",
        "    r\"\"\"Temporal convolution block applied to nodes in the STGCN Layer\n",
        "    For details see: `\"Spatio-Temporal Graph Convolutional Networks:\n",
        "    A Deep Learning Framework for Traffic Forecasting.\"\n",
        "    <https://arxiv.org/abs/1709.04875>`_ Based off the temporal convolution\n",
        "     introduced in \"Convolutional Sequence to Sequence Learning\"  <https://arxiv.org/abs/1709.04875>`_\n",
        "\n",
        "    Args:\n",
        "        in_channels (int): Number of input features.\n",
        "        out_channels (int): Number of output features.\n",
        "        kernel_size (int): Convolutional kernel size.\n",
        "    \"\"\"\n",
        "\n",
        "    def __init__(self, in_channels: int, out_channels: int, kernel_size: int = 3):\n",
        "        super(TemporalConv, self).__init__()\n",
        "        self.conv_1 = nn.Conv2d(in_channels, out_channels, (1, kernel_size))\n",
        "        self.conv_2 = nn.Conv2d(in_channels, out_channels, (1, kernel_size))\n",
        "        self.conv_3 = nn.Conv2d(in_channels, out_channels, (1, kernel_size))\n",
        "\n",
        "    def forward(self, X: torch.FloatTensor) -> torch.FloatTensor:\n",
        "        \"\"\"Forward pass through temporal convolution block.\n",
        "\n",
        "        Arg types:\n",
        "            * **X** (torch.FloatTensor) -  Input data of shape\n",
        "                (batch_size, input_time_steps, num_nodes, in_channels).\n",
        "\n",
        "        Return types:\n",
        "            * **H** (torch.FloatTensor) - Output data of shape\n",
        "                (batch_size, in_channels, num_nodes, input_time_steps).\n",
        "        \"\"\"\n",
        "        X = X.permute(0, 3, 2, 1)\n",
        "        P = self.conv_1(X)\n",
        "        Q = torch.sigmoid(self.conv_2(X))\n",
        "        PQ = P * Q\n",
        "        H = F.relu(PQ + self.conv_3(X))\n",
        "        H = H.permute(0, 3, 2, 1)\n",
        "        return H\n",
        "\n",
        "\n",
        "class STConv(nn.Module):\n",
        "    r\"\"\"Spatio-temporal convolution block using ChebConv Graph Convolutions.\n",
        "    For details see: `\"Spatio-Temporal Graph Convolutional Networks:\n",
        "    A Deep Learning Framework for Traffic Forecasting\"\n",
        "    <https://arxiv.org/abs/1709.04875>`_\n",
        "\n",
        "    NB. The ST-Conv block contains two temporal convolutions (TemporalConv)\n",
        "    with kernel size k. Hence for an input sequence of length m,\n",
        "    the output sequence will be length m-2(k-1).\n",
        "\n",
        "    Args:\n",
        "        in_channels (int): Number of input features.\n",
        "        hidden_channels (int): Number of hidden units output by graph convolution block\n",
        "        out_channels (int): Number of output features.\n",
        "        kernel_size (int): Size of the kernel considered.\n",
        "        K (int): Chebyshev filter size :math:`K`.\n",
        "        normalization (str, optional): The normalization scheme for the graph\n",
        "            Laplacian (default: :obj:`\"sym\"`):\n",
        "\n",
        "            1. :obj:`None`: No normalization\n",
        "            :math:`\\mathbf{L} = \\mathbf{D} - \\mathbf{A}`\n",
        "\n",
        "            2. :obj:`\"sym\"`: Symmetric normalization\n",
        "            :math:`\\mathbf{L} = \\mathbf{I} - \\mathbf{D}^{-1/2} \\mathbf{A}\n",
        "            \\mathbf{D}^{-1/2}`\n",
        "\n",
        "            3. :obj:`\"rw\"`: Random-walk normalization\n",
        "            :math:`\\mathbf{L} = \\mathbf{I} - \\mathbf{D}^{-1} \\mathbf{A}`\n",
        "\n",
        "            You need to pass :obj:`lambda_max` to the :meth:`forward` method of\n",
        "            this operator in case the normalization is non-symmetric.\n",
        "            :obj:`\\lambda_max` should be a :class:`torch.Tensor` of size\n",
        "            :obj:`[num_graphs]` in a mini-batch scenario and a\n",
        "            scalar/zero-dimensional tensor when operating on single graphs.\n",
        "            You can pre-compute :obj:`lambda_max` via the\n",
        "            :class:`torch_geometric.transforms.LaplacianLambdaMax` transform.\n",
        "        bias (bool, optional): If set to :obj:`False`, the layer will not learn\n",
        "            an additive bias. (default: :obj:`True`)\n",
        "\n",
        "    \"\"\"\n",
        "\n",
        "    def __init__(\n",
        "        self,\n",
        "        num_nodes: int,\n",
        "        in_channels: int,\n",
        "        hidden_channels: int,\n",
        "        out_channels: int,\n",
        "        kernel_size: int,\n",
        "        K: int,\n",
        "        normalization: str = \"sym\",\n",
        "        bias: bool = True,\n",
        "    ):\n",
        "        super(STConv, self).__init__()\n",
        "        self.num_nodes = num_nodes\n",
        "        self.in_channels = in_channels\n",
        "        self.hidden_channels = hidden_channels\n",
        "        self.out_channels = out_channels\n",
        "        self.kernel_size = kernel_size\n",
        "        self.K = K\n",
        "        self.normalization = normalization\n",
        "        self.bias = bias\n",
        "\n",
        "        self._temporal_conv1 = TemporalConv(\n",
        "            in_channels=in_channels,\n",
        "            out_channels=hidden_channels,\n",
        "            kernel_size=kernel_size,\n",
        "        )\n",
        "\n",
        "        self._graph_conv = ChebConv(\n",
        "            in_channels=hidden_channels,\n",
        "            out_channels=hidden_channels,\n",
        "            K=K,\n",
        "            normalization=normalization,\n",
        "            bias=bias,\n",
        "        )\n",
        "\n",
        "        self._temporal_conv2 = TemporalConv(\n",
        "            in_channels=hidden_channels,\n",
        "            out_channels=out_channels,\n",
        "            kernel_size=kernel_size,\n",
        "        )\n",
        "\n",
        "        self._batch_norm = nn.BatchNorm2d(num_nodes)\n",
        "\n",
        "    def forward(\n",
        "        self,\n",
        "        X: torch.FloatTensor,\n",
        "        edge_index: torch.LongTensor,\n",
        "        edge_weight: torch.FloatTensor = None,\n",
        "    ) -> torch.FloatTensor:\n",
        "\n",
        "        r\"\"\"Forward pass. If edge weights are not present the forward pass\n",
        "        defaults to an unweighted graph.\n",
        "\n",
        "        Arg types:\n",
        "            * **X** (PyTorch FloatTensor) - Sequence of node features of shape (Batch size X Input time steps X Num nodes X In channels).\n",
        "            * **edge_index** (PyTorch LongTensor) - Graph edge indices.\n",
        "            * **edge_weight** (PyTorch LongTensor, optional)- Edge weight vector.\n",
        "\n",
        "        Return types:\n",
        "            * **T** (PyTorch FloatTensor) - Sequence of node features.\n",
        "        \"\"\"\n",
        "        T_0 = self._temporal_conv1(X)\n",
        "        T = torch.zeros_like(T_0).to(T_0.device)\n",
        "        for b in range(T_0.size(0)):\n",
        "            for t in range(T_0.size(1)):\n",
        "                T[b][t] = self._graph_conv(T_0[b][t], edge_index, edge_weight)\n",
        "\n",
        "        T = F.relu(T)\n",
        "        T = self._temporal_conv2(T)\n",
        "        T = T.permute(0, 2, 1, 3)\n",
        "        T = self._batch_norm(T)\n",
        "        T = T.permute(0, 2, 1, 3)\n",
        "        return T"
      ],
      "metadata": {
        "id": "znOlToYEays3"
      },
      "execution_count": null,
      "outputs": []
    },
    {
      "cell_type": "markdown",
      "source": [
        "We will get the data of 1 frame out of the 720 frames"
      ],
      "metadata": {
        "id": "WswzdF5JFHT8"
      }
    },
    {
      "cell_type": "code",
      "source": [
        "motion_data['smpl_poses'][0:10].shape"
      ],
      "metadata": {
        "colab": {
          "base_uri": "https://localhost:8080/"
        },
        "id": "7zEGf9jWAdBN",
        "outputId": "7840a3c5-62cf-4b69-c5af-3ba0df968656"
      },
      "execution_count": null,
      "outputs": [
        {
          "output_type": "execute_result",
          "data": {
            "text/plain": [
              "(10, 72)"
            ]
          },
          "metadata": {},
          "execution_count": 30
        }
      ]
    },
    {
      "cell_type": "code",
      "source": [
        "total_data = np.array(motion_data['smpl_poses'][:10]).reshape((1, 10, 24, 3))\n",
        "total_data[0][0]\n",
        "total_data = torch.tensor(total_data, dtype = torch.float)\n",
        "total_data[0][0]"
      ],
      "metadata": {
        "colab": {
          "base_uri": "https://localhost:8080/"
        },
        "id": "jJqbJb0ue3Fu",
        "outputId": "307d3434-b27a-40d2-bbc0-2f78311cfb32"
      },
      "execution_count": null,
      "outputs": [
        {
          "output_type": "execute_result",
          "data": {
            "text/plain": [
              "tensor([[-2.5402e-01,  1.0790e+00, -3.2611e-01],\n",
              "        [-7.5377e-02, -1.1440e-02,  3.9088e-01],\n",
              "        [-8.8694e-01,  2.8769e-01, -1.8023e-01],\n",
              "        [ 1.4145e-01, -6.8148e-02,  2.8037e-01],\n",
              "        [ 2.1015e-01,  8.2510e-03, -9.4474e-03],\n",
              "        [ 1.2557e+00, -3.1012e-02,  8.1020e-01],\n",
              "        [ 2.3121e-01, -2.1422e-02,  5.5015e-03],\n",
              "        [ 7.5530e-04,  5.9645e-03, -8.2161e-03],\n",
              "        [ 1.7023e-03, -2.8756e-03, -2.2088e-03],\n",
              "        [ 2.9547e-01, -9.2897e-03, -8.3168e-02],\n",
              "        [ 1.2540e-04,  3.7024e-03,  6.7848e-03],\n",
              "        [ 2.2001e-03,  7.4864e-03,  3.7359e-03],\n",
              "        [ 1.7494e-02, -2.1532e-01,  3.5900e-03],\n",
              "        [-5.4418e-02, -4.3293e-01,  3.4054e-02],\n",
              "        [-1.3944e-01,  4.5678e-01, -2.0616e-01],\n",
              "        [-2.3710e-01, -3.6145e-01,  2.7604e-01],\n",
              "        [-1.2006e-01, -8.8270e-01, -7.4800e-01],\n",
              "        [-9.1023e-02,  7.1990e-01,  2.2854e-01],\n",
              "        [-1.1614e-01, -1.8250e+00,  5.1953e-01],\n",
              "        [-6.4241e-02,  1.7547e+00, -4.1716e-01],\n",
              "        [ 6.3233e-03, -1.4335e-03,  1.4359e-03],\n",
              "        [-2.9384e-03,  2.3208e-04, -5.8843e-03],\n",
              "        [ 5.6487e-03, -1.1323e-03, -8.3429e-05],\n",
              "        [ 2.1950e-03, -3.4160e-04,  6.5242e-03]])"
            ]
          },
          "metadata": {},
          "execution_count": 36
        }
      ]
    },
    {
      "cell_type": "markdown",
      "source": [
        "We will now reshape our data to (num of nodes, num of features) because the graph will take in data in this format. I have assumed that 3 consecutive values represent one node."
      ],
      "metadata": {
        "id": "FPTm1jjLFcFB"
      }
    },
    {
      "cell_type": "code",
      "source": [
        "frame_data = np.array(motion_data['smpl_poses'][0])\n",
        "frame_data = frame_data.reshape((24, 3))\n",
        "frame_data = torch.tensor(frame_data, dtype = torch.float)\n",
        "frame_data"
      ],
      "metadata": {
        "colab": {
          "base_uri": "https://localhost:8080/"
        },
        "id": "Y_qgdK0A_owT",
        "outputId": "79252316-7edc-4bc8-faff-0a685626f7e0"
      },
      "execution_count": null,
      "outputs": [
        {
          "output_type": "execute_result",
          "data": {
            "text/plain": [
              "tensor([[-2.5402e-01,  1.0790e+00, -3.2611e-01],\n",
              "        [-7.5377e-02, -1.1440e-02,  3.9088e-01],\n",
              "        [-8.8694e-01,  2.8769e-01, -1.8023e-01],\n",
              "        [ 1.4145e-01, -6.8148e-02,  2.8037e-01],\n",
              "        [ 2.1015e-01,  8.2510e-03, -9.4474e-03],\n",
              "        [ 1.2557e+00, -3.1012e-02,  8.1020e-01],\n",
              "        [ 2.3121e-01, -2.1422e-02,  5.5015e-03],\n",
              "        [ 7.5530e-04,  5.9645e-03, -8.2161e-03],\n",
              "        [ 1.7023e-03, -2.8756e-03, -2.2088e-03],\n",
              "        [ 2.9547e-01, -9.2897e-03, -8.3168e-02],\n",
              "        [ 1.2540e-04,  3.7024e-03,  6.7848e-03],\n",
              "        [ 2.2001e-03,  7.4864e-03,  3.7359e-03],\n",
              "        [ 1.7494e-02, -2.1532e-01,  3.5900e-03],\n",
              "        [-5.4418e-02, -4.3293e-01,  3.4054e-02],\n",
              "        [-1.3944e-01,  4.5678e-01, -2.0616e-01],\n",
              "        [-2.3710e-01, -3.6145e-01,  2.7604e-01],\n",
              "        [-1.2006e-01, -8.8270e-01, -7.4800e-01],\n",
              "        [-9.1023e-02,  7.1990e-01,  2.2854e-01],\n",
              "        [-1.1614e-01, -1.8250e+00,  5.1953e-01],\n",
              "        [-6.4241e-02,  1.7547e+00, -4.1716e-01],\n",
              "        [ 6.3233e-03, -1.4335e-03,  1.4359e-03],\n",
              "        [-2.9384e-03,  2.3208e-04, -5.8843e-03],\n",
              "        [ 5.6487e-03, -1.1323e-03, -8.3429e-05],\n",
              "        [ 2.1950e-03, -3.4160e-04,  6.5242e-03]])"
            ]
          },
          "metadata": {},
          "execution_count": 20
        }
      ]
    },
    {
      "cell_type": "code",
      "source": [
        "import networkx as nx\n",
        "import matplotlib.pyplot as plt\n",
        "\n",
        "edge_list = [\n",
        "    (0,1),\n",
        "    (0,2),\n",
        "    (0,3),\n",
        "    (1,4),\n",
        "    (2,5),\n",
        "    (3,6),\n",
        "    (4,7),\n",
        "    (5,8),\n",
        "    (6,9),\n",
        "    (7,10),\n",
        "    (8,11),\n",
        "    (9,12),\n",
        "    (9,13),\n",
        "    (9,14),\n",
        "    (12,15),\n",
        "    (13,16),\n",
        "    (14,17),\n",
        "    (16,18),\n",
        "    (17,19),\n",
        "    (18,20),\n",
        "    (19,21),\n",
        "    (20,22),\n",
        "    (21,23)\n",
        "]\n",
        "\n",
        "G = nx.Graph()\n",
        "\n",
        "G.add_edges_from(edge_list)\n",
        "\n",
        "layout = nx.spring_layout(G)\n",
        "\n",
        "nx.draw(G, pos=layout, with_labels=True, node_size=500, node_color='skyblue')\n",
        "\n",
        "nx.draw_networkx_edges(G, pos=layout, edge_color='gray')\n",
        "\n",
        "plt.show()\n"
      ],
      "metadata": {
        "colab": {
          "base_uri": "https://localhost:8080/",
          "height": 516
        },
        "id": "Wiz8EVtwIgn3",
        "outputId": "4bc2411c-06da-4daf-d6a0-171fc046a15a"
      },
      "execution_count": null,
      "outputs": [
        {
          "output_type": "display_data",
          "data": {
            "text/plain": [
              "<Figure size 640x480 with 1 Axes>"
            ],
            "image/png": "[encoded data removed]"
          },
          "metadata": {}
        }
      ]
    },
    {
      "cell_type": "markdown",
      "source": [
        "The edge list below represents the connections between the various joints/nodes."
      ],
      "metadata": {
        "id": "NBmZ2oOaFoZ_"
      }
    },
    {
      "cell_type": "code",
      "source": [
        "edge_indices = [\n",
        "    [0,1],\n",
        "    [0,2],\n",
        "    [0,3],\n",
        "    [1,4],\n",
        "    [2,5],\n",
        "    [3,6],\n",
        "    [4,7],\n",
        "    [5,8],\n",
        "    [6,9],\n",
        "    [7,10],\n",
        "    [8,11],\n",
        "    [9,12],\n",
        "    [9,13],\n",
        "    [9,14],\n",
        "    [12,15],\n",
        "    [13,16],\n",
        "    [14,17],\n",
        "    [16,18],\n",
        "    [17,19],\n",
        "    [18,20],\n",
        "    [19,21],\n",
        "    [20,22],\n",
        "    [21,23]\n",
        "]\n",
        "\n",
        "#adding reverse connections to make it undirected\n",
        "\n",
        "edge_indices_und = []\n",
        "for edge in edge_indices:\n",
        "  edge_indices_und.append([edge[0], edge[1]])\n",
        "  edge_indices_und.append([edge[1], edge[0]])\n",
        "edge_indices_und = torch.tensor(edge_indices_und, dtype = torch.long)"
      ],
      "metadata": {
        "id": "ND8atPA5tadV"
      },
      "execution_count": null,
      "outputs": []
    },
    {
      "cell_type": "markdown",
      "source": [
        "We will now convert it to dimensions (2, num of edges) because the graph will take in the connection info in this format"
      ],
      "metadata": {
        "id": "lRfRTK-BFz7I"
      }
    },
    {
      "cell_type": "code",
      "source": [
        "edge_indices_coo = edge_indices_und.t().contiguous()\n",
        "print(edge_indices_coo)"
      ],
      "metadata": {
        "id": "mPP9bnL7JxU5",
        "colab": {
          "base_uri": "https://localhost:8080/"
        },
        "outputId": "5b40b1fc-b85c-418c-d114-dfa6b1378b3c"
      },
      "execution_count": null,
      "outputs": [
        {
          "output_type": "stream",
          "name": "stdout",
          "text": [
            "tensor([[ 0,  1,  0,  2,  0,  3,  1,  4,  2,  5,  3,  6,  4,  7,  5,  8,  6,  9,\n",
            "          7, 10,  8, 11,  9, 12,  9, 13,  9, 14, 12, 15, 13, 16, 14, 17, 16, 18,\n",
            "         17, 19, 18, 20, 19, 21, 20, 22, 21, 23],\n",
            "        [ 1,  0,  2,  0,  3,  0,  4,  1,  5,  2,  6,  3,  7,  4,  8,  5,  9,  6,\n",
            "         10,  7, 11,  8, 12,  9, 13,  9, 14,  9, 15, 12, 16, 13, 17, 14, 18, 16,\n",
            "         19, 17, 20, 18, 21, 19, 22, 20, 23, 21]])\n"
          ]
        }
      ]
    },
    {
      "cell_type": "markdown",
      "source": [
        "I am now providing my own labels to each node. This has nothing to do with the generation of embeddings but is just to visualize our final embeddings by assigning a colour to different sets of nodes. I want to provide same colours to nearby joints. So, the head and neck will have one class, the arms will be another class, the legs will be a separate class and finally the torso will be a separate class."
      ],
      "metadata": {
        "id": "Jjv_PZ5lKaPr"
      }
    },
    {
      "cell_type": "code",
      "source": [
        "node_labels = [0, 1, 2, 3, 4, 5, 6, 7, 8, 9, 10, 11, 12, 13, 14, 15, 16, 17, 18, 19, 20, 21, 22, 23]\n",
        "node_labels = [0, 1, 1, 0, 1, 1, 0, 1, 1, 0, 1,  1,  2,  3,  3,  2,  3,  3,  3,  3,  3,  3,  3,  3]\n",
        "y = torch.tensor(node_labels, dtype = torch.long)"
      ],
      "metadata": {
        "id": "RXrYZ22BKIGs"
      },
      "execution_count": null,
      "outputs": []
    },
    {
      "cell_type": "code",
      "source": [
        "data = Data(x = frame_data, edge_index = edge_indices_coo, y = y)\n",
        "data"
      ],
      "metadata": {
        "colab": {
          "base_uri": "https://localhost:8080/"
        },
        "id": "psvWcx38_OTt",
        "outputId": "4be42dff-74c0-4c6e-851a-c7fe5c07d61a"
      },
      "execution_count": null,
      "outputs": [
        {
          "output_type": "execute_result",
          "data": {
            "text/plain": [
              "Data(x=[24, 3], edge_index=[2, 46], y=[24])"
            ]
          },
          "metadata": {},
          "execution_count": 25
        }
      ]
    },
    {
      "cell_type": "code",
      "source": [
        "stconvmodel = STConv(24, 3, 3, 3, 1, 2)\n",
        "trained_features = stconvmodel(total_data, edge_indices_coo)\n",
        "trained_features2 = stconvmodel(trained_features, edge_indices_coo)\n",
        "trained_features2[0][0]"
      ],
      "metadata": {
        "colab": {
          "base_uri": "https://localhost:8080/"
        },
        "id": "CHOKQ2_tbY_4",
        "outputId": "f8dca4e3-6121-44e2-d720-02a1b7047cd4"
      },
      "execution_count": null,
      "outputs": [
        {
          "output_type": "execute_result",
          "data": {
            "text/plain": [
              "tensor([[ 0.4993,  0.9032, -1.3909],\n",
              "        [ 0.3519,  1.0092, -1.3619],\n",
              "        [ 0.3511,  1.0015, -1.3607],\n",
              "        [ 0.3985,  0.9955, -1.3763],\n",
              "        [ 0.4538,  0.9308, -1.3878],\n",
              "        [ 0.3998,  0.9714, -1.3742],\n",
              "        [ 0.4230,  0.9511, -1.3794],\n",
              "        [ 0.4708,  0.9212, -1.3892],\n",
              "        [ 0.5008,  0.8925, -1.3963],\n",
              "        [ 0.6654,  0.7700, -1.4105],\n",
              "        [ 0.3883,  0.9841, -1.3718],\n",
              "        [ 0.3880,  0.9837, -1.3716],\n",
              "        [ 0.3965,  0.9664, -1.3808],\n",
              "        [ 0.3521,  1.0458, -1.3662],\n",
              "        [ 0.4084,  0.9548, -1.3751],\n",
              "        [ 0.3437,  1.0119, -1.3592],\n",
              "        [ 0.4238,  0.9938, -1.3852],\n",
              "        [ 0.3689,  0.9838, -1.3649],\n",
              "        [ 0.3710,  1.0304, -1.3772],\n",
              "        [ 0.3601,  0.9800, -1.3613],\n",
              "        [ 0.4318,  0.9795, -1.3690],\n",
              "        [ 0.5220,  0.8614, -1.4022],\n",
              "        [ 0.3930,  0.9806, -1.3729],\n",
              "        [ 0.3867,  0.9842, -1.3712]], grad_fn=<SelectBackward0>)"
            ]
          },
          "metadata": {},
          "execution_count": 45
        }
      ]
    },
    {
      "cell_type": "code",
      "source": [
        "total_data[0][0:8]"
      ],
      "metadata": {
        "id": "7fR8t-_shvpH"
      },
      "execution_count": null,
      "outputs": []
    },
    {
      "cell_type": "code",
      "source": [
        "class GCN(torch.nn.Module):\n",
        "    def __init__(self, hidden_channels, out_channels):\n",
        "        super().__init__()\n",
        "        torch.manual_seed(1234567)\n",
        "        self.conv1 = GCNConv(data.num_features, hidden_channels)\n",
        "        self.conv2 = GCNConv(hidden_channels, out_channels)\n",
        "\n",
        "    def forward(self, x, edge_index):\n",
        "        x = self.conv1(x, edge_index)\n",
        "        x = x.relu()\n",
        "        x = self.conv2(x, edge_index)\n",
        "        return x"
      ],
      "metadata": {
        "id": "xjtpqXdvB__3"
      },
      "execution_count": null,
      "outputs": []
    },
    {
      "cell_type": "code",
      "source": [
        "model = GCN(hidden_channels=6, out_channels = 3)\n",
        "print(model)"
      ],
      "metadata": {
        "colab": {
          "base_uri": "https://localhost:8080/"
        },
        "id": "MZA0YWu4C488",
        "outputId": "8674d37c-0438-4f25-d98c-7f72740b729e"
      },
      "execution_count": null,
      "outputs": [
        {
          "output_type": "stream",
          "name": "stdout",
          "text": [
            "GCN(\n",
            "  (conv1): GCNConv(3, 6)\n",
            "  (conv2): GCNConv(6, 3)\n",
            ")\n"
          ]
        }
      ]
    },
    {
      "cell_type": "code",
      "source": [
        "out = model(data.x, data.edge_index)\n",
        "print(out)"
      ],
      "metadata": {
        "colab": {
          "base_uri": "https://localhost:8080/"
        },
        "id": "4i9TSbcQDSO4",
        "outputId": "300e0c03-c079-4397-e891-165b89cefe5e"
      },
      "execution_count": null,
      "outputs": [
        {
          "output_type": "stream",
          "name": "stdout",
          "text": [
            "tensor([[-0.1585,  0.0212,  0.1389],\n",
            "        [-0.1223,  0.0358,  0.0593],\n",
            "        [-0.1156,  0.0390,  0.0515],\n",
            "        [-0.0861,  0.0102,  0.0609],\n",
            "        [-0.0315,  0.0075,  0.0201],\n",
            "        [ 0.0005,  0.0147, -0.0013],\n",
            "        [ 0.0077, -0.0207,  0.0209],\n",
            "        [ 0.0095,  0.0040, -0.0250],\n",
            "        [ 0.0381,  0.0100, -0.0440],\n",
            "        [ 0.0135, -0.0246,  0.0347],\n",
            "        [ 0.0077, -0.0068, -0.0045],\n",
            "        [ 0.0393, -0.0019, -0.0221],\n",
            "        [ 0.0151,  0.0348, -0.0739],\n",
            "        [ 0.0624, -0.0268,  0.0498],\n",
            "        [-0.1521, -0.0294,  0.2498],\n",
            "        [ 0.0064,  0.0525, -0.0839],\n",
            "        [ 0.0751, -0.0151,  0.0957],\n",
            "        [-0.2591, -0.0326,  0.4084],\n",
            "        [ 0.0670,  0.0331,  0.0586],\n",
            "        [-0.2792, -0.0446,  0.4425],\n",
            "        [ 0.0405,  0.0273,  0.0140],\n",
            "        [-0.1589, -0.0285,  0.2544],\n",
            "        [ 0.0220,  0.0291, -0.0324],\n",
            "        [-0.0755, -0.0212,  0.1239]], grad_fn=<AddBackward0>)\n"
          ]
        }
      ]
    },
    {
      "cell_type": "code",
      "source": [
        "trained_features[0][0].shape"
      ],
      "metadata": {
        "colab": {
          "base_uri": "https://localhost:8080/"
        },
        "id": "KPDb2DAtmJbp",
        "outputId": "64c9068a-f614-4f85-8c32-b6a61706296a"
      },
      "execution_count": null,
      "outputs": [
        {
          "output_type": "execute_result",
          "data": {
            "text/plain": [
              "torch.Size([24, 3])"
            ]
          },
          "metadata": {},
          "execution_count": 58
        }
      ]
    },
    {
      "cell_type": "markdown",
      "source": [
        "We can use the function below to visualize the final embeddings on a scatter plot. However, this function works only if the dimension of the embeddings of each node is 2. I have later provided another code which uses PCA to visualize embeddings with higher dimensions"
      ],
      "metadata": {
        "id": "2bztVJVQOJYD"
      }
    },
    {
      "cell_type": "code",
      "source": [
        "def visualize_embedding(h, color, epoch=None, loss=None):\n",
        "    plt.figure(figsize=(7,7))\n",
        "    plt.xticks([])\n",
        "    plt.yticks([])\n",
        "    h = h.detach().cpu().numpy()\n",
        "    plt.scatter(h[:, 0], h[:, 1], s=140, c=color, cmap=\"Set2\")\n",
        "    if epoch is not None and loss is not None:\n",
        "        plt.xlabel(f'Epoch: {epoch}, Loss: {loss.item():.4f}', fontsize=16)\n",
        "    plt.show()"
      ],
      "metadata": {
        "id": "auJb6HyMJd6N"
      },
      "execution_count": null,
      "outputs": []
    },
    {
      "cell_type": "code",
      "source": [
        "visualize_embedding(h = trained_features[0][0], color = data.y)"
      ],
      "metadata": {
        "colab": {
          "base_uri": "https://localhost:8080/",
          "height": 576
        },
        "id": "7VbqiIQVJfEp",
        "outputId": "c7e08b3c-9011-47dd-87d9-d364ddddde37"
      },
      "execution_count": null,
      "outputs": [
        {
          "output_type": "display_data",
          "data": {
            "text/plain": [
              "<Figure size 700x700 with 1 Axes>"
            ],
            "image/png": "[encoded data removed]"
          },
          "metadata": {}
        }
      ]
    },
    {
      "cell_type": "markdown",
      "source": [],
      "metadata": {
        "id": "7iscfuxNOz2-"
      }
    },
    {
      "cell_type": "code",
      "source": [
        "from sklearn.decomposition import PCA\n",
        "\n",
        "pca = PCA(n_components=2)\n",
        "reduced_h = pca.fit_transform(out.detach().numpy())\n",
        "\n",
        "plt.scatter(reduced_h[:, 0], reduced_h[:, 1], s=140, c=data.y, cmap=\"Set2\")\n",
        "plt.title(\"PCA-Reduced Embeddings\")\n",
        "plt.xlabel(\"Principal Component 1\")\n",
        "plt.ylabel(\"Principal Component 2\")\n",
        "plt.colorbar()\n",
        "plt.show()"
      ],
      "metadata": {
        "colab": {
          "base_uri": "https://localhost:8080/",
          "height": 472
        },
        "id": "EdiR9cGvNp9-",
        "outputId": "dfa45a8f-e654-4724-ea12-1a11968a48b6"
      },
      "execution_count": null,
      "outputs": [
        {
          "output_type": "display_data",
          "data": {
            "text/plain": [
              "<Figure size 640x480 with 2 Axes>"
            ],
            "image/png": "[encoded data removed]"
          },
          "metadata": {}
        }
      ]
    }
  ]
}